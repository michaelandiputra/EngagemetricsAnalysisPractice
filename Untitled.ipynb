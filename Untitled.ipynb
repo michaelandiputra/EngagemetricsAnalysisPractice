{
 "cells": [
  {
   "cell_type": "code",
   "execution_count": 1,
   "id": "c9f27ad4-0ac4-43e9-9f09-9cb5d50372cf",
   "metadata": {},
   "outputs": [],
   "source": [
    "# Import required libraries\n",
    "import pandas as pd\n",
    "import numpy as np\n",
    "import matplotlib.pyplot as plt\n",
    "import seaborn as sns\n",
    "\n",
    "# Load the dataset\n",
    "df = pd.read_csv('employee_insights_cleaned.csv')"
   ]
  },
  {
   "cell_type": "code",
   "execution_count": 2,
   "id": "c8bd07e5-544e-4d43-bb02-4ec517a0f0f3",
   "metadata": {},
   "outputs": [
    {
     "name": "stdout",
     "output_type": "stream",
     "text": [
      "<class 'pandas.core.frame.DataFrame'>\n",
      "RangeIndex: 100 entries, 0 to 99\n",
      "Data columns (total 13 columns):\n",
      " #   Column               Non-Null Count  Dtype  \n",
      "---  ------               --------------  -----  \n",
      " 0   employee_id          100 non-null    object \n",
      " 1   age                  100 non-null    int64  \n",
      " 2   salary               100 non-null    int64  \n",
      " 3   promotion_eligible   100 non-null    object \n",
      " 4   last_training_date   100 non-null    object \n",
      " 5   department           100 non-null    object \n",
      " 6   work_experience      100 non-null    int64  \n",
      " 7   projects_completed   100 non-null    int64  \n",
      " 8   hours_worked_weekly  100 non-null    float64\n",
      " 9   work_mode            100 non-null    object \n",
      " 10  last_promotion_date  100 non-null    object \n",
      " 11  satisfaction_score   100 non-null    float64\n",
      " 12  overtime_hours       100 non-null    float64\n",
      "dtypes: float64(3), int64(4), object(6)\n",
      "memory usage: 10.3+ KB\n"
     ]
    }
   ],
   "source": [
    "df.info()"
   ]
  },
  {
   "cell_type": "code",
   "execution_count": 3,
   "id": "6dba96c8-1c13-4af9-a9a1-afddec0908a7",
   "metadata": {},
   "outputs": [
    {
     "data": {
      "text/html": [
       "<div>\n",
       "<style scoped>\n",
       "    .dataframe tbody tr th:only-of-type {\n",
       "        vertical-align: middle;\n",
       "    }\n",
       "\n",
       "    .dataframe tbody tr th {\n",
       "        vertical-align: top;\n",
       "    }\n",
       "\n",
       "    .dataframe thead th {\n",
       "        text-align: right;\n",
       "    }\n",
       "</style>\n",
       "<table border=\"1\" class=\"dataframe\">\n",
       "  <thead>\n",
       "    <tr style=\"text-align: right;\">\n",
       "      <th></th>\n",
       "      <th>age</th>\n",
       "      <th>salary</th>\n",
       "      <th>work_experience</th>\n",
       "      <th>projects_completed</th>\n",
       "      <th>hours_worked_weekly</th>\n",
       "      <th>satisfaction_score</th>\n",
       "      <th>overtime_hours</th>\n",
       "    </tr>\n",
       "  </thead>\n",
       "  <tbody>\n",
       "    <tr>\n",
       "      <th>count</th>\n",
       "      <td>100.000000</td>\n",
       "      <td>100.000000</td>\n",
       "      <td>100.000000</td>\n",
       "      <td>100.00000</td>\n",
       "      <td>100.000000</td>\n",
       "      <td>100.000000</td>\n",
       "      <td>100.000000</td>\n",
       "    </tr>\n",
       "    <tr>\n",
       "      <th>mean</th>\n",
       "      <td>41.450000</td>\n",
       "      <td>86278.060000</td>\n",
       "      <td>9.530000</td>\n",
       "      <td>7.98000</td>\n",
       "      <td>41.916354</td>\n",
       "      <td>6.611000</td>\n",
       "      <td>5.046000</td>\n",
       "    </tr>\n",
       "    <tr>\n",
       "      <th>std</th>\n",
       "      <td>10.335166</td>\n",
       "      <td>20948.892635</td>\n",
       "      <td>5.897192</td>\n",
       "      <td>3.92346</td>\n",
       "      <td>7.358341</td>\n",
       "      <td>2.061278</td>\n",
       "      <td>2.692204</td>\n",
       "    </tr>\n",
       "    <tr>\n",
       "      <th>min</th>\n",
       "      <td>25.000000</td>\n",
       "      <td>50206.000000</td>\n",
       "      <td>1.000000</td>\n",
       "      <td>1.00000</td>\n",
       "      <td>30.341799</td>\n",
       "      <td>3.000000</td>\n",
       "      <td>0.100000</td>\n",
       "    </tr>\n",
       "    <tr>\n",
       "      <th>25%</th>\n",
       "      <td>32.000000</td>\n",
       "      <td>70234.250000</td>\n",
       "      <td>4.000000</td>\n",
       "      <td>4.75000</td>\n",
       "      <td>36.004756</td>\n",
       "      <td>4.700000</td>\n",
       "      <td>2.550000</td>\n",
       "    </tr>\n",
       "    <tr>\n",
       "      <th>50%</th>\n",
       "      <td>41.500000</td>\n",
       "      <td>87330.500000</td>\n",
       "      <td>10.000000</td>\n",
       "      <td>8.50000</td>\n",
       "      <td>41.119708</td>\n",
       "      <td>6.750000</td>\n",
       "      <td>5.400000</td>\n",
       "    </tr>\n",
       "    <tr>\n",
       "      <th>75%</th>\n",
       "      <td>49.000000</td>\n",
       "      <td>104297.000000</td>\n",
       "      <td>15.250000</td>\n",
       "      <td>12.00000</td>\n",
       "      <td>48.638833</td>\n",
       "      <td>8.200000</td>\n",
       "      <td>7.325000</td>\n",
       "    </tr>\n",
       "    <tr>\n",
       "      <th>max</th>\n",
       "      <td>59.000000</td>\n",
       "      <td>119163.000000</td>\n",
       "      <td>19.000000</td>\n",
       "      <td>14.00000</td>\n",
       "      <td>54.895784</td>\n",
       "      <td>10.000000</td>\n",
       "      <td>10.000000</td>\n",
       "    </tr>\n",
       "  </tbody>\n",
       "</table>\n",
       "</div>"
      ],
      "text/plain": [
       "              age         salary  work_experience  projects_completed  \\\n",
       "count  100.000000     100.000000       100.000000           100.00000   \n",
       "mean    41.450000   86278.060000         9.530000             7.98000   \n",
       "std     10.335166   20948.892635         5.897192             3.92346   \n",
       "min     25.000000   50206.000000         1.000000             1.00000   \n",
       "25%     32.000000   70234.250000         4.000000             4.75000   \n",
       "50%     41.500000   87330.500000        10.000000             8.50000   \n",
       "75%     49.000000  104297.000000        15.250000            12.00000   \n",
       "max     59.000000  119163.000000        19.000000            14.00000   \n",
       "\n",
       "       hours_worked_weekly  satisfaction_score  overtime_hours  \n",
       "count           100.000000          100.000000      100.000000  \n",
       "mean             41.916354            6.611000        5.046000  \n",
       "std               7.358341            2.061278        2.692204  \n",
       "min              30.341799            3.000000        0.100000  \n",
       "25%              36.004756            4.700000        2.550000  \n",
       "50%              41.119708            6.750000        5.400000  \n",
       "75%              48.638833            8.200000        7.325000  \n",
       "max              54.895784           10.000000       10.000000  "
      ]
     },
     "execution_count": 3,
     "metadata": {},
     "output_type": "execute_result"
    }
   ],
   "source": [
    "df.describe()"
   ]
  },
  {
   "cell_type": "code",
   "execution_count": 5,
   "id": "12d3bddf-6887-4d52-8d5b-d2c1e3982e96",
   "metadata": {},
   "outputs": [
    {
     "name": "stdout",
     "output_type": "stream",
     "text": [
      "origin\thttps://github.com/michaelandiputra/EngagemetricsAnalysisPractice.git (fetch)\n",
      "origin\thttps://github.com/michaelandiputra/EngagemetricsAnalysisPractice.git (push)\n"
     ]
    }
   ],
   "source": [
    "!git remote -v"
   ]
  },
  {
   "cell_type": "code",
   "execution_count": 13,
   "id": "d52e6944-ab53-4d72-8f74-e98962bb1316",
   "metadata": {},
   "outputs": [
    {
     "name": "stdout",
     "output_type": "stream",
     "text": [
      "  experimental 2e42693 adding updated employee_analysis.ipynb with data statistics\n",
      "* main         2e42693 adding updated employee_analysis.ipynb with data statistics\n",
      "  master       2e42693 adding updated employee_analysis.ipynb with data statistics\n"
     ]
    }
   ],
   "source": [
    "!git branch -v"
   ]
  },
  {
   "cell_type": "code",
   "execution_count": 12,
   "id": "b925405f-c72d-485c-b821-5c9fe374d1b4",
   "metadata": {},
   "outputs": [],
   "source": [
    "!git branch experimental"
   ]
  },
  {
   "cell_type": "code",
   "execution_count": 14,
   "id": "9e504f06-f860-45c1-9651-bb015577fd51",
   "metadata": {},
   "outputs": [
    {
     "name": "stdout",
     "output_type": "stream",
     "text": [
      "Deleted branch master (was 2e42693).\n"
     ]
    }
   ],
   "source": [
    "!git branch -d master"
   ]
  },
  {
   "cell_type": "code",
   "execution_count": 29,
   "id": "a0cec287-e6de-44a5-97b5-86edfa35fc2f",
   "metadata": {},
   "outputs": [
    {
     "name": "stderr",
     "output_type": "stream",
     "text": [
      "warning: in the working copy of 'Untitled.ipynb', LF will be replaced by CRLF the next time Git touches it\n"
     ]
    }
   ],
   "source": [
    "!git add Untitled.ipynb"
   ]
  },
  {
   "cell_type": "code",
   "execution_count": 30,
   "id": "ea5b9d6e-fc80-4e09-b059-5999f1d1a91b",
   "metadata": {},
   "outputs": [
    {
     "name": "stdout",
     "output_type": "stream",
     "text": [
      "[main 8e3b4c7] initial push\n",
      " 1 file changed, 105 insertions(+), 1 deletion(-)\n"
     ]
    }
   ],
   "source": [
    "!git commit -m \"initial push\""
   ]
  },
  {
   "cell_type": "code",
   "execution_count": 31,
   "id": "6296e5f8-71f2-4ea1-8754-a6c5338c1771",
   "metadata": {},
   "outputs": [
    {
     "name": "stderr",
     "output_type": "stream",
     "text": [
      "To https://github.com/michaelandiputra/EngagemetricsAnalysisPractice.git\n",
      "   d4b8f8e..8e3b4c7  main -> main\n"
     ]
    }
   ],
   "source": []
  },
  {
   "cell_type": "code",
   "execution_count": 37,
   "id": "3d5959e1-b778-4c50-b0ad-564187ec9043",
   "metadata": {},
   "outputs": [
    {
     "name": "stderr",
     "output_type": "stream",
     "text": [
      "error: Your local changes to the following files would be overwritten by checkout:\n",
      "\t.ipynb_checkpoints/Untitled-checkpoint.ipynb\n",
      "Please commit your changes or stash them before you switch branches.\n",
      "Aborting\n"
     ]
    }
   ],
   "source": []
  },
  {
   "cell_type": "code",
   "execution_count": 36,
   "id": "418b9d06-8f17-4186-b5a5-ab418b280874",
   "metadata": {},
   "outputs": [
    {
     "name": "stderr",
     "output_type": "stream",
     "text": [
      "No stash entries found.\n"
     ]
    }
   ],
   "source": []
  },
  {
   "cell_type": "code",
   "execution_count": null,
   "id": "71350c7d-6c5f-4360-a6c5-e85ad86e0fff",
   "metadata": {},
   "outputs": [],
   "source": []
  }
 ],
 "metadata": {
  "kernelspec": {
   "display_name": "Python [conda env:base] *",
   "language": "python",
   "name": "conda-base-py"
  },
  "language_info": {
   "codemirror_mode": {
    "name": "ipython",
    "version": 3
   },
   "file_extension": ".py",
   "mimetype": "text/x-python",
   "name": "python",
   "nbconvert_exporter": "python",
   "pygments_lexer": "ipython3",
   "version": "3.13.5"
  }
 },
 "nbformat": 4,
 "nbformat_minor": 5
}
