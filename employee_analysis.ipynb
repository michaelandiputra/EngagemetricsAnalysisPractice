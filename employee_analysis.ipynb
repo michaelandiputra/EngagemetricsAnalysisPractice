{
 "cells": [
  {
   "cell_type": "markdown",
   "id": "999d3f63",
   "metadata": {},
   "source": [
    "# Ungraded Lab: GitHub Integration Lab"
   ]
  },
  {
   "cell_type": "markdown",
   "id": "4d0e2f60",
   "metadata": {},
   "source": [
    "## Overview \n",
    "Welcome to EngageMetrics' GitHub Integration Lab! In this hands-on session, you'll learn to manage version control for data science projects using GitHub. You'll work with the Employee Insights dataset, creating and maintaining a repository for your analysis notebook while learning best practices for version control in data science workflows.\n",
    "If you get stuck or need a refresher, refer back to the screencast where we demonstrated these concepts step-by-step. The video shows similar examples that can help guide you through this activity.\n",
    "\n",
    "## Learning Outcomes \n",
    "By the end of this lab, you will be able to:\n",
    "- Initialize and structure a Git repository for a data science project\n",
    "- Write clear, descriptive commit messages following data science best practices\n",
    "- Push changes to GitHub while managing notebook metadata\n",
    "- Implement version control best practices for Jupyter notebooks\n",
    "\n",
    "## Dataset Information \n",
    "You'll be working with the <b>employee_insights_cleaned.csv</b> dataset from EngageMetrics, containing employee satisfaction scores, work modes, and performance metrics."
   ]
  },
  {
   "cell_type": "markdown",
   "id": "58926bf7",
   "metadata": {},
   "source": [
    "## Activities\n",
    "### Activity 1: Repository Setup and Initial Commit\n",
    "\n",
    "<b>Step 1:</b> Initialize the Repository"
   ]
  },
  {
   "cell_type": "code",
   "execution_count": 1,
   "id": "e8903e3a",
   "metadata": {
    "scrolled": true
   },
   "outputs": [
    {
     "name": "stdout",
     "output_type": "stream",
     "text": [
      "C:\\Users\\micha\\Jupyter\\EmployeeAnalysis\\engagemetrics_analysis\n"
     ]
    },
    {
     "name": "stderr",
     "output_type": "stream",
     "text": [
      "'mv' is not recognized as an internal or external command,\n",
      "operable program or batch file.\n"
     ]
    }
   ],
   "source": [
    "!mkdir engagemetrics_analysis\n",
    "%cd engagemetrics_analysis\n",
    "!mv ../employee_analysis.ipynb ."
   ]
  },
  {
   "cell_type": "markdown",
   "id": "a8c4130d",
   "metadata": {},
   "source": [
    "<b>Step 2:</b> Initialize Git Repository"
   ]
  },
  {
   "cell_type": "code",
   "execution_count": 2,
   "id": "3a06d3b7",
   "metadata": {},
   "outputs": [
    {
     "name": "stdout",
     "output_type": "stream",
     "text": [
      "Initialized empty Git repository in C:/Users/micha/Jupyter/EmployeeAnalysis/engagemetrics_analysis/.git/\n"
     ]
    }
   ],
   "source": [
    "!git init"
   ]
  },
  {
   "cell_type": "markdown",
   "id": "a42f82af",
   "metadata": {},
   "source": [
    "### Activity 2: First Analysis and Commit\n",
    "\n",
    "<b>Step 1:</b> Create Basic Analysis"
   ]
  },
  {
   "cell_type": "code",
   "execution_count": 7,
   "id": "bb4dcf26",
   "metadata": {
    "scrolled": true
   },
   "outputs": [
    {
     "name": "stdout",
     "output_type": "stream",
     "text": [
      "<class 'pandas.core.frame.DataFrame'>\n",
      "RangeIndex: 100 entries, 0 to 99\n",
      "Data columns (total 13 columns):\n",
      " #   Column               Non-Null Count  Dtype  \n",
      "---  ------               --------------  -----  \n",
      " 0   employee_id          100 non-null    object \n",
      " 1   age                  100 non-null    int64  \n",
      " 2   salary               100 non-null    int64  \n",
      " 3   promotion_eligible   100 non-null    object \n",
      " 4   last_training_date   100 non-null    object \n",
      " 5   department           100 non-null    object \n",
      " 6   work_experience      100 non-null    int64  \n",
      " 7   projects_completed   100 non-null    int64  \n",
      " 8   hours_worked_weekly  100 non-null    float64\n",
      " 9   work_mode            100 non-null    object \n",
      " 10  last_promotion_date  100 non-null    object \n",
      " 11  satisfaction_score   100 non-null    float64\n",
      " 12  overtime_hours       100 non-null    float64\n",
      "dtypes: float64(3), int64(4), object(6)\n",
      "memory usage: 10.3+ KB\n",
      "None\n",
      "\n",
      "Statistics Information:\n",
      "               age         salary  work_experience  projects_completed  \\\n",
      "count  100.000000     100.000000       100.000000           100.00000   \n",
      "mean    41.450000   86278.060000         9.530000             7.98000   \n",
      "std     10.335166   20948.892635         5.897192             3.92346   \n",
      "min     25.000000   50206.000000         1.000000             1.00000   \n",
      "25%     32.000000   70234.250000         4.000000             4.75000   \n",
      "50%     41.500000   87330.500000        10.000000             8.50000   \n",
      "75%     49.000000  104297.000000        15.250000            12.00000   \n",
      "max     59.000000  119163.000000        19.000000            14.00000   \n",
      "\n",
      "       hours_worked_weekly  satisfaction_score  overtime_hours  \n",
      "count           100.000000          100.000000      100.000000  \n",
      "mean             41.916354            6.611000        5.046000  \n",
      "std               7.358341            2.061278        2.692204  \n",
      "min              30.341799            3.000000        0.100000  \n",
      "25%              36.004756            4.700000        2.550000  \n",
      "50%              41.119708            6.750000        5.400000  \n",
      "75%              48.638833            8.200000        7.325000  \n",
      "max              54.895784           10.000000       10.000000  \n"
     ]
    }
   ],
   "source": [
    "import pandas as pd\n",
    "\n",
    "# Load the dataset\n",
    "df = pd.read_csv('../employee_insights_cleaned.csv')\n",
    "\n",
    "# Display basic information and statistics  \n",
    "print(df.info())\n",
    "print(\"\\nStatistics Information:\\n\", df.describe())"
   ]
  },
  {
   "cell_type": "markdown",
   "id": "2f7a3662",
   "metadata": {},
   "source": [
    "<b>Step 2:</b> Stage and Commit : \n",
    "- Open terminal or command prompt from “Launcher”. In terminal, ensure that you are in the correct directory, <b>engagemetrics_analysis</b> by typing <b>“pwd”</b> and pressing enter.\n",
    "- Once in the correct directory, use the following commands to stage and commit the file : "
   ]
  },
  {
   "cell_type": "code",
   "execution_count": 19,
   "id": "e3f2a2af",
   "metadata": {},
   "outputs": [
    {
     "name": "stdout",
     "output_type": "stream",
     "text": [
      "On branch main\n",
      "Your branch is up to date with 'origin/main'.\n",
      "\n",
      "nothing to commit, working tree clean\n"
     ]
    }
   ],
   "source": [
    "# While using git commands in terminal we do not need to use \"!\" as prefix. \n",
    "!git add employee_analysis.ipynb\n",
    "!git commit -m \"adding updated employee_analysis.ipynb with data statistics\""
   ]
  },
  {
   "cell_type": "markdown",
   "id": "1ab35b84",
   "metadata": {},
   "source": [
    "<b>Tip:</b> Write commit messages that clearly describe what analysis or changes were made."
   ]
  },
  {
   "cell_type": "markdown",
   "id": "a163a0ce",
   "metadata": {},
   "source": [
    "### Activity 3: Remote Repository Setup\n",
    "\n",
    "<b>Step 1:</b> Create GitHub Repository\n",
    "- Visit github.com and create a new repository named \"engagemetrics-analysis\"\n",
    "- Follow GitHub's instructions to connect your local repository\n",
    "\n",
    "<b>Step 2:</b> Push Your Changes using terminal (Again ensure that you are in engagemetrics_analysis directory).\n"
   ]
  },
  {
   "cell_type": "code",
   "execution_count": 12,
   "id": "c01f23ac",
   "metadata": {},
   "outputs": [
    {
     "name": "stderr",
     "output_type": "stream",
     "text": [
      "error: remote origin already exists.\n"
     ]
    }
   ],
   "source": [
    "!git remote add origin https://github.com/michaelandiputra/EngagemetricsAnalysisPractice.git\n",
    "!git branch -M main"
   ]
  },
  {
   "cell_type": "markdown",
   "id": "be5b3b02-c94e-4789-b9bc-112513c2a28a",
   "metadata": {},
   "source": [
    "You will need to authenticate your credentials to push the commited changes to the repository. Keep your username and personal access token ready before pushing to main branch."
   ]
  },
  {
   "cell_type": "code",
   "execution_count": 20,
   "id": "a38963e3-dafa-42c3-b0ea-ae4bbf9e30d0",
   "metadata": {},
   "outputs": [
    {
     "name": "stdout",
     "output_type": "stream",
     "text": [
      "branch 'main' set up to track 'origin/main'.\n"
     ]
    },
    {
     "name": "stderr",
     "output_type": "stream",
     "text": [
      "Everything up-to-date\n"
     ]
    }
   ],
   "source": [
    "!git push -u origin main"
   ]
  },
  {
   "cell_type": "code",
   "execution_count": 16,
   "id": "e4aa0bec-2e27-4fed-b3e8-553b27767677",
   "metadata": {},
   "outputs": [],
   "source": [
    "!git branch -m main"
   ]
  },
  {
   "cell_type": "markdown",
   "id": "fccac9fe",
   "metadata": {},
   "source": [
    "## Success Checklist\n",
    "- Repository is properly initialized with .gitignore\n",
    "- Initial analysis notebook is committed and pushed\n",
    "- Commit messages are clear and descriptive\n",
    "- Remote repository is properly connected\n",
    "\n",
    "## Common Issues & Solutions \n",
    "- Problem: Jupyter notebook metadata causing conflicts \n",
    "    - Solution: Clear output cells before committing\n",
    "- Problem: Push rejected due to remote changes \n",
    "    - Solution: Pull changes first with git pull origin main\n",
    "    \n",
    "## Summary \n",
    "Fantastic work! You've mastered the essential skills of managing a data science project using Git and GitHub! You can now confidently take your projects from initial setup to deploying changes on GitHub, setting you up for success in collaborative data science work. Remember, these version control skills are crucial for professional data scientists - you're now equipped with industry-standard practices that will serve you well throughout your career!\n",
    "\n",
    "### Key Points\n",
    "- Initialize repositories before starting any data analysis\n",
    "- Write clear, descriptive commit messages that explain your changes\n",
    "- Keep commits focused and atomic for better version history\n",
    "- Always use .gitignore to manage notebook metadata and cache files\n",
    "- Pull before pushing to avoid conflicts in collaborative work"
   ]
  },
  {
   "cell_type": "markdown",
   "id": "6a96dbfe",
   "metadata": {},
   "source": [
    "## Solution Code\n",
    "Stuck on your code or want to check your solution? Here's a complete reference implementation to guide you. This represents just one effective approach—try solving independently first, then use this to overcome obstacles or compare techniques. The solution is provided to help you move forward and explore alternative approaches to achieve the same results. Happy coding!"
   ]
  },
  {
   "cell_type": "markdown",
   "id": "f2cfaf69",
   "metadata": {},
   "source": [
    "### Activity 1: Repository Setup and Initial Commit - Solution Code"
   ]
  },
  {
   "cell_type": "code",
   "execution_count": null,
   "id": "d94e84bd",
   "metadata": {},
   "outputs": [],
   "source": [
    "# Step 1: Initialize the Repository\n",
    "!mkdir engagemetrics_analysis\n",
    "%cd engagemetrics_analysis\n",
    "!mv ../employee_analysis.ipynb .\n",
    "\n",
    "\n",
    "# Step 2: Initialize Git Repository\n",
    "!git init\n",
    "\n",
    "# Verify initialization\n",
    "!git status"
   ]
  },
  {
   "cell_type": "markdown",
   "id": "8f4047a9",
   "metadata": {},
   "source": [
    "### Activity 2: First Analysis and Commit - Solution Code"
   ]
  },
  {
   "cell_type": "code",
   "execution_count": null,
   "id": "66fa6c70",
   "metadata": {},
   "outputs": [],
   "source": [
    "# Step 1: Create Basic Analysis\n",
    "\n",
    "# Initial Jupyter Notebook Setup\n",
    "import pandas as pd\n",
    "import numpy as np\n",
    "import matplotlib.pyplot as plt\n",
    "import seaborn as sns\n",
    "\n",
    "# Load the dataset\n",
    "df = pd.read_csv('../employee_insights_cleaned.csv')\n",
    "\n",
    "# Display basic information\n",
    "print(\"Dataset Overview:\")\n",
    "print(df.info())\n",
    "\n",
    "# Basic statistics\n",
    "print(\"\\nBasic Statistics:\")\n",
    "print(df.describe())\n",
    "\n",
    "# Check for missing values\n",
    "print(\"\\nMissing Values:\")\n",
    "print(df.isnull().sum())\n",
    "\n",
    "\"\"\"\n",
    "# Step 2: Stage and Commit\n",
    "# Terminal commands:\n",
    "(Remove \"!\" while using these commands in terminal) \n",
    "!git add employee_analysis.ipynb\n",
    "!git commit -m \"Initial analysis: Add dataset overview and basic statistics\"\n",
    "\"\"\""
   ]
  },
  {
   "cell_type": "markdown",
   "id": "db489b73",
   "metadata": {},
   "source": [
    "### Activity 3: Remote Repository Setup - Solution Code"
   ]
  },
  {
   "cell_type": "code",
   "execution_count": null,
   "id": "f1229d9c",
   "metadata": {},
   "outputs": [],
   "source": [
    "# Step 1: Create GitHub Repository\n",
    "# 1. Go to github.com\n",
    "# 2. Click '+ New repository'\n",
    "# 3. Name it 'engagemetrics-analysis'\n",
    "# 4. Leave it public\n",
    "# 5. Don't initialize with README\n",
    "\n",
    "\"\"\"\n",
    "# Step 2: Push Your Changes\n",
    "# Terminal commands:\n",
    "(Remove \"!\" while using these commands in terminal)\n",
    "!git remote add origin <your-repository-url>\n",
    "!git branch -M main\n",
    "!git push -u origin main\n",
    "\"\"\""
   ]
  }
 ],
 "metadata": {
  "kernelspec": {
   "display_name": "Python [conda env:base] *",
   "language": "python",
   "name": "conda-base-py"
  },
  "language_info": {
   "codemirror_mode": {
    "name": "ipython",
    "version": 3
   },
   "file_extension": ".py",
   "mimetype": "text/x-python",
   "name": "python",
   "nbconvert_exporter": "python",
   "pygments_lexer": "ipython3",
   "version": "3.13.5"
  }
 },
 "nbformat": 4,
 "nbformat_minor": 5
}
